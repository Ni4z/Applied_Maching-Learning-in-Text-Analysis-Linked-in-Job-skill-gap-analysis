{
 "cells": [
  {
   "cell_type": "code",
   "execution_count": 1,
   "id": "a7df5449",
   "metadata": {
    "scrolled": true
   },
   "outputs": [],
   "source": [
    "# Import necessary packages\n",
    "from selenium import webdriver\n",
    "from bs4 import BeautifulSoup\n",
    "import json"
   ]
  },
  {
   "cell_type": "code",
   "execution_count": 2,
   "id": "c1f454b0",
   "metadata": {},
   "outputs": [],
   "source": [
    "# Set up chromedriver\n",
    "driver = webdriver.Chrome()\n",
    "url = 'https://groups.uni-paderborn.de/ww-sharepoint/modulhandbuch/mhbelement.php?363.966'\n",
    "driver.get(url)"
   ]
  },
  {
   "cell_type": "code",
   "execution_count": 3,
   "id": "2de065f5",
   "metadata": {},
   "outputs": [],
   "source": [
    "# Get the HTML source\n",
    "html_source = driver.page_source\n",
    "soup = BeautifulSoup(html_source, 'html.parser')"
   ]
  },
  {
   "cell_type": "code",
   "execution_count": 4,
   "id": "bf98458e",
   "metadata": {
    "scrolled": true
   },
   "outputs": [
    {
     "data": {
      "text/plain": [
       "[<table class=\"fluid full\"><tbody><tr><th>Inhalte <em>(short description)</em>:</th></tr><tr><td>\n",
       " <p>​Die verbreitete Nutzung digitaler sozialer Medien durch vernetzte Akteure oder Organisationen hinterlässt eine nie zuvor gekannte Menge digitaler Daten. Diese werden zunehmend durch Unternehmen oder Wissenschaftler genutzt, um die komplexen Abläufe im Web2.0 besser zu verstehen und gegebenenfalls besser auf Kunden einwirken zu können. Die Forschung und auch zahlreiche Unternehmen entwickelten diverse analytische Ansätze, um aus den Massenrohdaten sinnvolle und wirtschaftlich relevante Einsichten zu erzeugen. Social Media Manager beispielsweise verwenden aggregierte Darstellungen der Daten in Dashboards, um den Erfolg ihrer Arbeit (z.B. verbessernde Kundenwahrnehmung, Vertrieb) zu messen. Forscher identifizieren generelle Muster und entwickeln Metriken und Theorien.<br/>Um sich diesem datenzentrierten Arbeits- und Forschungskontext zu nähern und die Metriken und Einsichten zu erweitern, wird in diesem Modul zunächst das Konzept des Social Business als ein relevanter organisatorischer Kontext vorgestellt. Eine wichtige Rolle hierbei spielen die Managementwerkzeuge von Social Media Managern, welche die firmenrelevanten digitalen Aktivitätsdaten der Onlinenutzer in den sozialen Medien aufbereiten, verdichten und visualisieren. Parallel verwenden die Manager direkte Antworten und Reaktionen ihrer Kundengruppe als qualitative Daten für ihre Analysen. Auf Basis dieser Managementperspektive werden im Modul dann verschiedene Ansätze von Social Media Analytics besprochen und angewendet. Beispiele sind die Erstellung von Personas, Genreanalysen, Community Health Analysen, Time-Series Analysen, Event-Impact Analysen oder Netzwerkanalysen. Parallel zur Untersuchung einiger praktischer Fallbeispiele entwickeln die Teilnehmer ein eigenes Analyseprojekt auf Basis der besprochenen Methoden. Ziele sind hierbei, die komplexen digitalen Phänomene besser zu verstehen, unternehmensrelevante Einsichten für Social Media Manager zu generieren sowie eventuell darüberhinausgehend einen Forschungsbeitrag zu entwickeln (z.B. neue Metriken, Visualisierung oder Aufdeckung genereller Phänomene, Designs). Der zu erstellende Projektbericht basiert auf der Struktur und den Methoden wissenschaftlicher Artikel und ermöglicht dadurch den Teilnehmern, anschließende akademische Arbeiten (z.B. Masterarbeit, eigene Publikationen) auf den Ergebnissen des Moduls aufzubauen.</p>\n",
       " </td></tr></tbody></table>,\n",
       " <table class=\"fluid full\"><tbody><tr><th nowrap=\"\">Lernergebnisse <em>(learning outcomes)</em>:</th></tr><tr><td></td></tr><tr><th nowrap=\"\">Fachkompetenz Wissen <em>(professional expertise)</em>:</th></tr><tr><td>Studierende...<br/>\n",
       " <p>​… lernen neue wissenschaftliche Erkenntnisse und Artikel im Themenkomplex Social Media / Kooperative Technologien kennen<br/>… lernen Ansätze der Datensammlung im Vorfeld der Social Media Forschung<br/>… kennen Verfahren zur wissenschaftlichen Datenanalyse und Interpretation</p>\n",
       " <p>Students learn about<br/>… current scientific insights and articles in the social media and collaborative technologies field,<br/>…approaches of social media data collection and transformation as a base for social media research,<br/>…approaches of scientific data analysis and interpretation.</p>\n",
       " </td></tr><tr><th nowrap=\"\">Fachkompetenz Fertigkeit <em>(practical professional and academic skills)</em>:</th></tr><tr><td>Studierende...<br/>\n",
       " <p>​… analysieren aktuelle Forschungsbeiträge im Kontext von Social Media und kooperativen Technologien,<br/>… konzipieren einen eigenen Forschungszugang zum Thema,<br/>… erfassen und generieren ein Datenset als Ausgangspunkt wissenschaftlicher Analysen,<br/>… wenden Werkzeuge zur Datenanalyse und Interpretation an,<br/>… entwickeln einen systematischen Ansatz zum Aufbau und zur Strukturierung eines eigenen akademischen Forschungsprojekts (z.B. als Vorstufe zur Masterarbeit).</p>\n",
       " <p>Students…<br/>…analyse current research in the field of social media and collaborative technologies,<br/>…generate their own transformed social media dataset to fit for research inquiries,<br/>…develop a systematic analytical approach to address a research or management problem (e.g., as a precursor for a master thesis).</p>\n",
       " </td></tr><tr><th nowrap=\"\">Personale Kompetenz / Sozial <em>(individual competences / social skills)</em>:</th></tr><tr><td>Studierende...<br/>\n",
       " <p>​… können ungeklärte Fragestellungen aus Forscherperspektive zielorientiert und abstrakt formulieren und mit systematischen Standardmethoden der Daten bzw. Inhaltsanalyse kritisch untersuchen, sowie praktische Implikationen ableiten.</p>\n",
       " <p>Students…<br/>…are enabled to formulate management-oriented problems in a social business context and address them in a systematic approach based on standard methods of scientific data and content analysis to derive practical implications.</p>\n",
       " </td></tr><tr><th nowrap=\"\">Personale Kompetenz / Selbstständigkeit <em>(individual competences / ability to perform autonomously)</em>:</th></tr><tr><td>Studierende...<br/>\n",
       " <p>​… entwickeln eine kritische Perspektive auf neueste technische Entwicklungen,<br/>… wählen die passenden Methoden zur Analyse gegebener Fragestellungen aus,<br/>… bewerten die Qualität und Generalisierbarkeit der Ergebnisse und ihrer Implikationen für die Forschung und Praxis.</p>\n",
       " <p>Students…<br/>… develop a critical and informed perspective on the benefits of different software-based analytical methods and tools,<br/>… can choose in an informed manner appropriate tools and methods to best address a given business problem,<br/>… can evaluate the quality and the implications of the research results for practitioners and academics</p>\n",
       " </td></tr></tbody></table>]"
      ]
     },
     "execution_count": 4,
     "metadata": {},
     "output_type": "execute_result"
    }
   ],
   "source": [
    "# Find all the tables elements\n",
    "tables = soup.find_all('table', attrs = {'class':'fluid full'})[4:6]\n",
    "tables"
   ]
  },
  {
   "cell_type": "code",
   "execution_count": 5,
   "id": "34e63364",
   "metadata": {
    "scrolled": false
   },
   "outputs": [
    {
     "name": "stdout",
     "output_type": "stream",
     "text": [
      "Inhalte (short description):\n",
      "​Die verbreitete Nutzung digitaler sozialer Medien durch vernetzte Akteure oder Organisationen hinterlässt eine nie zuvor gekannte Menge digitaler Daten. Diese werden zunehmend durch Unternehmen oder Wissenschaftler genutzt, um die komplexen Abläufe im Web2.0 besser zu verstehen und gegebenenfalls besser auf Kunden einwirken zu können. Die Forschung und auch zahlreiche Unternehmen entwickelten diverse analytische Ansätze, um aus den Massenrohdaten sinnvolle und wirtschaftlich relevante Einsichten zu erzeugen. Social Media Manager beispielsweise verwenden aggregierte Darstellungen der Daten in Dashboards, um den Erfolg ihrer Arbeit (z.B. verbessernde Kundenwahrnehmung, Vertrieb) zu messen. Forscher identifizieren generelle Muster und entwickeln Metriken und Theorien.Um sich diesem datenzentrierten Arbeits- und Forschungskontext zu nähern und die Metriken und Einsichten zu erweitern, wird in diesem Modul zunächst das Konzept des Social Business als ein relevanter organisatorischer Kontext vorgestellt. Eine wichtige Rolle hierbei spielen die Managementwerkzeuge von Social Media Managern, welche die firmenrelevanten digitalen Aktivitätsdaten der Onlinenutzer in den sozialen Medien aufbereiten, verdichten und visualisieren. Parallel verwenden die Manager direkte Antworten und Reaktionen ihrer Kundengruppe als qualitative Daten für ihre Analysen. Auf Basis dieser Managementperspektive werden im Modul dann verschiedene Ansätze von Social Media Analytics besprochen und angewendet. Beispiele sind die Erstellung von Personas, Genreanalysen, Community Health Analysen, Time-Series Analysen, Event-Impact Analysen oder Netzwerkanalysen. Parallel zur Untersuchung einiger praktischer Fallbeispiele entwickeln die Teilnehmer ein eigenes Analyseprojekt auf Basis der besprochenen Methoden. Ziele sind hierbei, die komplexen digitalen Phänomene besser zu verstehen, unternehmensrelevante Einsichten für Social Media Manager zu generieren sowie eventuell darüberhinausgehend einen Forschungsbeitrag zu entwickeln (z.B. neue Metriken, Visualisierung oder Aufdeckung genereller Phänomene, Designs). Der zu erstellende Projektbericht basiert auf der Struktur und den Methoden wissenschaftlicher Artikel und ermöglicht dadurch den Teilnehmern, anschließende akademische Arbeiten (z.B. Masterarbeit, eigene Publikationen) auf den Ergebnissen des Moduls aufzubauen.\n",
      "Lernergebnisse (learning outcomes):\n",
      "Fachkompetenz Wissen (professional expertise):\n",
      "Studierende...​… lernen neue wissenschaftliche Erkenntnisse und Artikel im Themenkomplex Social Media / Kooperative Technologien kennen… lernen Ansätze der Datensammlung im Vorfeld der Social Media Forschung… kennen Verfahren zur wissenschaftlichen Datenanalyse und InterpretationStudents learn about… current scientific insights and articles in the social media and collaborative technologies field,…approaches of social media data collection and transformation as a base for social media research,…approaches of scientific data analysis and interpretation.\n",
      "Fachkompetenz Fertigkeit (practical professional and academic skills):\n",
      "Studierende...​… analysieren aktuelle Forschungsbeiträge im Kontext von Social Media und kooperativen Technologien,… konzipieren einen eigenen Forschungszugang zum Thema,… erfassen und generieren ein Datenset als Ausgangspunkt wissenschaftlicher Analysen,… wenden Werkzeuge zur Datenanalyse und Interpretation an,… entwickeln einen systematischen Ansatz zum Aufbau und zur Strukturierung eines eigenen akademischen Forschungsprojekts (z.B. als Vorstufe zur Masterarbeit).Students……analyse current research in the field of social media and collaborative technologies,…generate their own transformed social media dataset to fit for research inquiries,…develop a systematic analytical approach to address a research or management problem (e.g., as a precursor for a master thesis).\n",
      "Personale Kompetenz / Sozial (individual competences / social skills):\n",
      "Studierende...​… können ungeklärte Fragestellungen aus Forscherperspektive zielorientiert und abstrakt formulieren und mit systematischen Standardmethoden der Daten bzw. Inhaltsanalyse kritisch untersuchen, sowie praktische Implikationen ableiten.Students……are enabled to formulate management-oriented problems in a social business context and address them in a systematic approach based on standard methods of scientific data and content analysis to derive practical implications.\n",
      "Personale Kompetenz / Selbstständigkeit (individual competences / ability to perform autonomously):\n",
      "Studierende...​… entwickeln eine kritische Perspektive auf neueste technische Entwicklungen,… wählen die passenden Methoden zur Analyse gegebener Fragestellungen aus,… bewerten die Qualität und Generalisierbarkeit der Ergebnisse und ihrer Implikationen für die Forschung und Praxis.Students…… develop a critical and informed perspective on the benefits of different software-based analytical methods and tools,… can choose in an informed manner appropriate tools and methods to best address a given business problem,… can evaluate the quality and the implications of the research results for practitioners and academics\n"
     ]
    }
   ],
   "source": [
    "# Scrape all the elements inside\n",
    "data = []\n",
    "for table in tables:\n",
    "    table_rows = table.find_all('tr')\n",
    "    for row in table_rows:\n",
    "        table_data = row.find_all('td')\n",
    "        table_data = [ele.text.strip().replace('\\n','') for ele in table_data]\n",
    "        table_data = ' '.join([ele for ele in table_data if ele])\n",
    "        data.append(table_data)\n",
    "        table_header = row.find_all('th')\n",
    "        table_header = [el.text.strip().replace('\\n','') for el in table_header]\n",
    "        table_header = ' '.join([el for el in table_header if el])\n",
    "        data.append(table_header)\n",
    "\n",
    "# Filter out empty strings\n",
    "data = [row for row in data if row]\n",
    "\n",
    "for row in data:\n",
    "    print(row)"
   ]
  },
  {
   "cell_type": "code",
   "execution_count": 6,
   "id": "2a7ca660",
   "metadata": {},
   "outputs": [],
   "source": [
    "with open('social_business_analytics.json', 'w', encoding='utf8') as f:\n",
    "    json.dump(data, f, ensure_ascii = False, indent = 4)"
   ]
  }
 ],
 "metadata": {
  "kernelspec": {
   "display_name": "Python 3 (ipykernel)",
   "language": "python",
   "name": "python3"
  },
  "language_info": {
   "codemirror_mode": {
    "name": "ipython",
    "version": 3
   },
   "file_extension": ".py",
   "mimetype": "text/x-python",
   "name": "python",
   "nbconvert_exporter": "python",
   "pygments_lexer": "ipython3",
   "version": "3.9.13"
  }
 },
 "nbformat": 4,
 "nbformat_minor": 5
}
